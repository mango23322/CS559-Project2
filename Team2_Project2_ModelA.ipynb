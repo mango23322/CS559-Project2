{
 "cells": [
  {
   "cell_type": "code",
   "execution_count": 23,
   "id": "995330a5",
   "metadata": {},
   "outputs": [
    {
     "name": "stdout",
     "output_type": "stream",
     "text": [
      "Training data ready\n"
     ]
    }
   ],
   "source": [
    "import csv\n",
    "import numpy as np\n",
    "\n",
    "x_raw = []\n",
    "y_raw = []\n",
    "\n",
    "# Upload training data as a list of lists.\n",
    "csv_file = open(\"train.csv\", \"r\")\n",
    "train_data = list(csv.reader(csv_file, delimiter=\",\"))\n",
    "csv_file.close()\n",
    "\n",
    "# Numericize and sort the data\n",
    "for line in train_data:\n",
    "    # Exclude the header line, any junk lines, and any bot results\n",
    "    if line[0].isnumeric() and line[1][-3:]:\n",
    "        # Store the game ID and score for this game\n",
    "        x_raw.append( [int(line[0]), int(line[2])] )\n",
    "        # Store the target (the rating for this score)\n",
    "        y_raw.append(int(line[3]))\n",
    "        \n",
    "x_data = np.array(x_raw)\n",
    "print('Training data ready')\n"
   ]
  },
  {
   "cell_type": "code",
   "execution_count": 24,
   "id": "fc70d631",
   "metadata": {},
   "outputs": [
    {
     "name": "stdout",
     "output_type": "stream",
     "text": [
      "Test data ready\n"
     ]
    }
   ],
   "source": [
    "# Now get the test data\n",
    "\n",
    "x_testraw = []\n",
    "x_testIDs = []\n",
    "\n",
    "csv_file = open(\"test.csv\", \"r\")\n",
    "test_data = list(csv.reader(csv_file, delimiter=\",\"))\n",
    "csv_file.close()\n",
    "\n",
    "# Numericize and sort the data\n",
    "for line in test_data:\n",
    "    # Exclude the header line, any junk lines, and any bot results\n",
    "    if line[3] == 'NA':\n",
    "        # Store the game ID and score for this game\n",
    "        x_testraw.append( [int(line[0]), int(line[2])] )\n",
    "        # Separately store the game ID\n",
    "        x_testIDs.append(int(line[0]))\n",
    "\n",
    "x_test = np.array(x_testraw)\n",
    "print('Test data ready')\n"
   ]
  },
  {
   "cell_type": "code",
   "execution_count": 25,
   "id": "c369b87f",
   "metadata": {},
   "outputs": [],
   "source": [
    "from sklearn.preprocessing import StandardScaler\n",
    "# Preprocessing\n",
    "sc = StandardScaler()\n",
    "x_data = sc.fit_transform(x_data)\n",
    "x_test = sc.transform(x_test)\n"
   ]
  },
  {
   "cell_type": "markdown",
   "id": "eb09b100",
   "metadata": {},
   "source": [
    "## Use a scikit sklearn MLPClassifier to predict outcomes"
   ]
  },
  {
   "cell_type": "code",
   "execution_count": 26,
   "id": "8e219e5c",
   "metadata": {},
   "outputs": [],
   "source": [
    "from sklearn.neural_network import MLPRegressor"
   ]
  },
  {
   "cell_type": "code",
   "execution_count": 27,
   "id": "21139827",
   "metadata": {},
   "outputs": [
    {
     "name": "stdout",
     "output_type": "stream",
     "text": [
      "Model A built\n"
     ]
    }
   ],
   "source": [
    "# This one takes 20 or 30 seconds on my PC\n",
    "modelA = MLPRegressor(random_state=1, max_iter=500).fit(x_data, y_raw)\n",
    "print('Model A built')\n",
    "predictionA = modelA.predict(x_test)\n",
    "# Create a submission out of the list of game IDs and the predictions for them\n",
    "resultA = list(zip(x_testIDs, predictionA))\n"
   ]
  },
  {
   "cell_type": "code",
   "execution_count": 28,
   "id": "05f24953",
   "metadata": {},
   "outputs": [
    {
     "name": "stdout",
     "output_type": "stream",
     "text": [
      "Submission complete!\n"
     ]
    }
   ],
   "source": [
    "# Output a submission\n",
    "    \n",
    "filename = 'Team2_submissionA.csv'\n",
    "csv_file = open(filename, \"w\", newline = '')\n",
    "writerA = csv.writer(csv_file)\n",
    "writerA.writerow(['game_id', 'rating'])\n",
    "for row in resultA:\n",
    "    writerA.writerow(row)\n",
    "\n",
    "csv_file.close()\n",
    "\n",
    "print('Submission complete!')"
   ]
  },
  {
   "cell_type": "code",
   "execution_count": null,
   "id": "757c3d71",
   "metadata": {},
   "outputs": [],
   "source": []
  }
 ],
 "metadata": {
  "kernelspec": {
   "display_name": "Python 3 (ipykernel)",
   "language": "python",
   "name": "python3"
  },
  "language_info": {
   "codemirror_mode": {
    "name": "ipython",
    "version": 3
   },
   "file_extension": ".py",
   "mimetype": "text/x-python",
   "name": "python",
   "nbconvert_exporter": "python",
   "pygments_lexer": "ipython3",
   "version": "3.9.12"
  }
 },
 "nbformat": 4,
 "nbformat_minor": 5
}
